{
 "cells": [
  {
   "cell_type": "markdown",
   "id": "16214af8-2a71-4aa6-bd46-05ec9b5f7794",
   "metadata": {},
   "source": [
    "RAG Application using Gemini\n"
   ]
  },
  {
   "cell_type": "code",
   "execution_count": 2,
   "id": "33587275-41fb-465e-b001-8264968e206b",
   "metadata": {},
   "outputs": [],
   "source": [
    "from langchain_community.document_loaders import PyPDFLoader\n",
    "\n",
    "loader = PyPDFLoader(\"Python.pdf\")\n",
    "data = loader.load()"
   ]
  },
  {
   "cell_type": "code",
   "execution_count": 4,
   "id": "8a6ed9d2-79ca-4096-8553-484f6211d2af",
   "metadata": {},
   "outputs": [
    {
     "data": {
      "text/plain": [
       "294"
      ]
     },
     "execution_count": 4,
     "metadata": {},
     "output_type": "execute_result"
    }
   ],
   "source": [
    "len(data)"
   ]
  },
  {
   "cell_type": "code",
   "execution_count": 28,
   "id": "56202071-ebc7-4b2d-87cb-6b0a3e8e34a1",
   "metadata": {},
   "outputs": [
    {
     "name": "stdout",
     "output_type": "stream",
     "text": [
      "Total number of documents :  287\n"
     ]
    }
   ],
   "source": [
    "from langchain.text_splitter import RecursiveCharacterTextSplitter\n",
    "\n",
    "text_splitter = RecursiveCharacterTextSplitter(chunk_size=10000)\n",
    "docs = text_splitter.split_documents(data)\n",
    "\n",
    "print(\"Total number of documents : \", len(docs))"
   ]
  },
  {
   "cell_type": "code",
   "execution_count": 29,
   "id": "5ec20e84-bc0d-4923-9fec-b2c0a8213405",
   "metadata": {},
   "outputs": [
    {
     "data": {
      "text/plain": [
       "Document(metadata={'source': 'Python.pdf', 'page': 5}, page_content='About the Reviewers\\nSébastien Celles  is a professor of applied physics at Universite de Poitiers (working \\nin the thermal science department). He has used Python for numerical simulations, \\ndata plotting, data predictions, and various other tasks since the early 2000s. He is a member of PyData and was granted commit rights to the pandas DataReader project. He is also involved in several open source projects in the scientific Python ecosystem.\\nSebastien is also the author of some Python packages available on PyPi, which are  \\nas follows:\\n• openweathermap_requests: This is a package used to fetch data from OpenWeatherMap.org using Requests and Requests-cache and to get pandas \\nDataFrame with weather history\\n• pandas_degreedays: This is a package used to calculate degree days  \\n(a measure of heating or cooling) from the pandas time series of temperature\\n• pandas_confusion: This is a package used to manage confusion matrices, plot \\nand binarize them, and calculate overall and class statistics\\n• There are some other packages authored by him, such as pyade,  \\npandas_datareaders_unofficial, and more\\nHe also has a personal interest in data mining, machine learning techniques, forecasting, and so on. You can find more information about him at \\nhttp://www.\\ncelles.net/wiki/Contact  or https://www.linkedin.com/in/sebastiencelles .')"
      ]
     },
     "execution_count": 29,
     "metadata": {},
     "output_type": "execute_result"
    }
   ],
   "source": [
    "docs[5]"
   ]
  },
  {
   "cell_type": "code",
   "execution_count": 30,
   "id": "9d1d4d9e-7186-4137-b6d9-114eb6ed80f4",
   "metadata": {},
   "outputs": [
    {
     "data": {
      "text/plain": [
       "[0.04909781739115715,\n",
       " -0.044328298419713974,\n",
       " -0.025365285575389862,\n",
       " -0.030721040442585945,\n",
       " 0.019068578258156776]"
      ]
     },
     "execution_count": 30,
     "metadata": {},
     "output_type": "execute_result"
    }
   ],
   "source": [
    "from langchain_chroma import Chroma\n",
    "from langchain_google_genai import GoogleGenerativeAIEmbeddings\n",
    "\n",
    "from dotenv import load_dotenv\n",
    "load_dotenv()\n",
    "\n",
    "embeddings = GoogleGenerativeAIEmbeddings(model = \"models/embedding-001\")\n",
    "vector = embeddings.embed_query(\"hello world\")\n",
    "vector[:5]"
   ]
  },
  {
   "cell_type": "code",
   "execution_count": 31,
   "id": "03feb948-cd32-431e-9384-8ea22bed2553",
   "metadata": {},
   "outputs": [],
   "source": [
    "vectorstore = Chroma.from_documents(documents=docs, embedding=GoogleGenerativeAIEmbeddings(model=\"models/embedding-001\"))"
   ]
  },
  {
   "cell_type": "code",
   "execution_count": 32,
   "id": "67126fb3-94b5-4467-b142-bd251caf1730",
   "metadata": {},
   "outputs": [],
   "source": [
    "retreiver = vectorstore.as_retriever(search_type = \"similarity\", seach_kwargs={\"k\": 10})\n",
    "retreived_docs = retreiver.invoke(\"What is new in Python?\")\n"
   ]
  },
  {
   "cell_type": "code",
   "execution_count": 33,
   "id": "81691d5a-650d-49a5-b1a2-1bbc499304b7",
   "metadata": {},
   "outputs": [
    {
     "data": {
      "text/plain": [
       "4"
      ]
     },
     "execution_count": 33,
     "metadata": {},
     "output_type": "execute_result"
    }
   ],
   "source": [
    "len(retreived_docs)"
   ]
  },
  {
   "cell_type": "code",
   "execution_count": 35,
   "id": "3a6225ee-ff13-423f-87d9-c8f9482db034",
   "metadata": {},
   "outputs": [
    {
     "name": "stdout",
     "output_type": "stream",
     "text": [
      "Getting Started with Raw Data[ 2 ]In this chapter we will cover the following topics:\n",
      "• Exploring arrays with NumPy\n",
      "• Handling data with pandas\n",
      "• Reading and writing data from various formats\n",
      "• Handling missing data\n",
      "• Manipulating data\n",
      "The world of arrays with NumPy\n",
      "Python, by default, comes with a data structure, such as List, which can be utilized \n",
      "for array operations, but a Python list on its own is not suitable to perform heavy \n",
      "mathematical operations, as it is not optimized for it.\n",
      "NumPy is a wonderful Python package produced by Travis Oliphant, which \n",
      "has been created fundamentally for scientific computing. It helps handle large \n",
      "multidimensional arrays and matrices, along with a large library of high-level \n",
      "mathematical functions to operate on these arrays.\n",
      "A NumPy array would require much less memory to store the same amount of data \n",
      "compared to a Python list, which helps in reading and writing from the array in a faster manner.\n",
      "Creating an array\n",
      "A list of numbers can be passed to the following array function to create a NumPy array object:\n",
      ">>> import numpy as np\n",
      ">>> n_array = np.array([[0, 1, 2, 3],\n",
      "                 [4, 5, 6, 7],                 [8, 9, 10, 11]])\n"
     ]
    }
   ],
   "source": [
    "print(retreived_docs[3].page_content)"
   ]
  },
  {
   "cell_type": "code",
   "execution_count": 36,
   "id": "288fbcea-bb7e-48a9-8b8e-79affde59d35",
   "metadata": {},
   "outputs": [],
   "source": [
    "from langchain_google_genai import ChatGoogleGenerativeAI\n",
    "llm = ChatGoogleGenerativeAI(model = \"gemini-1.5-pro\", temperature = 0.3, max_tokens= 500)"
   ]
  },
  {
   "cell_type": "code",
   "execution_count": 37,
   "id": "f84ee4ab-3dec-4eed-9774-1f1a9657010c",
   "metadata": {},
   "outputs": [],
   "source": [
    "from langchain.chains import create_retrieval_chain\n",
    "from langchain.chains.combine_documents import create_stuff_documents_chain\n",
    "from langchain_core.prompts import ChatPromptTemplate\n",
    "\n",
    "system_prompt = (\n",
    "    \"You are an assistant for question-answering tasks. \"\n",
    "    \"Use the following pieces of retreived context to answer the question\"\n",
    "    \"If you dont know the answer, say Thank you, I don't know \"\n",
    "    \"Use three sentences maximum and make the answer concise.\"\n",
    "    \"\\n\\n\"\n",
    "    \"{context}\"\n",
    ")\n",
    "\n",
    "prompt = ChatPromptTemplate.from_messages(\n",
    "    [\n",
    "        (\"system\",system_prompt),\n",
    "        (\"human\",\"{input}\")\n",
    "    ]\n",
    ")\n"
   ]
  },
  {
   "cell_type": "code",
   "execution_count": 39,
   "id": "fb78d9ba-0268-451d-bac9-36724ba7d07f",
   "metadata": {},
   "outputs": [],
   "source": [
    "question_answer_chain = create_stuff_documents_chain(llm,prompt)\n",
    "rag_chain = create_retrieval_chain(retreiver, question_answer_chain)"
   ]
  },
  {
   "cell_type": "code",
   "execution_count": 42,
   "id": "6835c345-1e59-4aa3-b9cd-5be9e06b9766",
   "metadata": {},
   "outputs": [
    {
     "name": "stdout",
     "output_type": "stream",
     "text": [
      "Pandas is an open source Python library specifically designed for data analysis. It was developed by Wes McKinny at AQR Capital Management to provide a flexible tool for quantitative analysis on financial data. Pandas is built on top of NumPy, providing efficient data structures and making data handling easier. \n",
      "\n"
     ]
    }
   ],
   "source": [
    "response = rag_chain.invoke({\"input\": \"What is Pandas?\"})\n",
    "print(response[\"answer\"])"
   ]
  },
  {
   "cell_type": "code",
   "execution_count": null,
   "id": "7e13f75e-70de-4f7d-8c92-80d03cea4976",
   "metadata": {},
   "outputs": [],
   "source": []
  },
  {
   "cell_type": "code",
   "execution_count": null,
   "id": "7d29ab7b-583c-4d66-ae43-e6c6ff5c7e6e",
   "metadata": {},
   "outputs": [],
   "source": []
  },
  {
   "cell_type": "code",
   "execution_count": null,
   "id": "01244eb5-099b-4bf9-ba4b-5896b1086171",
   "metadata": {},
   "outputs": [],
   "source": []
  },
  {
   "cell_type": "code",
   "execution_count": null,
   "id": "6e0bb185-b2c9-4ebb-844a-f284b6a90e34",
   "metadata": {},
   "outputs": [],
   "source": []
  },
  {
   "cell_type": "code",
   "execution_count": null,
   "id": "bc5afea5-c585-45b0-88a5-60b6f7d8c38f",
   "metadata": {},
   "outputs": [],
   "source": []
  },
  {
   "cell_type": "code",
   "execution_count": null,
   "id": "3fe33c76-84cf-43ff-8676-54f4e9792e7c",
   "metadata": {},
   "outputs": [],
   "source": []
  },
  {
   "cell_type": "code",
   "execution_count": null,
   "id": "6f6bbcd1-a37b-43fe-a517-0b4a3080e012",
   "metadata": {},
   "outputs": [],
   "source": []
  },
  {
   "cell_type": "code",
   "execution_count": null,
   "id": "dd5f6e24-305c-4218-a75d-c488abfc22eb",
   "metadata": {},
   "outputs": [],
   "source": []
  },
  {
   "cell_type": "code",
   "execution_count": null,
   "id": "63cd97df-390f-4b7b-9fda-516222924e1a",
   "metadata": {},
   "outputs": [],
   "source": []
  },
  {
   "cell_type": "code",
   "execution_count": null,
   "id": "fe86086f-4f2f-436f-9d7a-24f2f5e9c920",
   "metadata": {},
   "outputs": [],
   "source": []
  },
  {
   "cell_type": "code",
   "execution_count": null,
   "id": "49c6b5d7-c349-40c2-9d3b-e79838e61ea6",
   "metadata": {},
   "outputs": [],
   "source": []
  },
  {
   "cell_type": "code",
   "execution_count": null,
   "id": "68250c0c-40ff-4955-a495-f290ac38dee0",
   "metadata": {},
   "outputs": [],
   "source": []
  },
  {
   "cell_type": "code",
   "execution_count": null,
   "id": "d81a6624-ce36-47bc-85a5-400c7c55a350",
   "metadata": {},
   "outputs": [],
   "source": []
  }
 ],
 "metadata": {
  "kernelspec": {
   "display_name": "Python 3 (ipykernel)",
   "language": "python",
   "name": "python3"
  },
  "language_info": {
   "codemirror_mode": {
    "name": "ipython",
    "version": 3
   },
   "file_extension": ".py",
   "mimetype": "text/x-python",
   "name": "python",
   "nbconvert_exporter": "python",
   "pygments_lexer": "ipython3",
   "version": "3.10.0"
  }
 },
 "nbformat": 4,
 "nbformat_minor": 5
}
